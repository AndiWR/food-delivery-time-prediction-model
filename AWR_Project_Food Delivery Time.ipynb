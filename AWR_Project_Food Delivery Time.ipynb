{
 "cells": [
  {
   "cell_type": "markdown",
   "metadata": {},
   "source": [
    "# Food Delivery Time Prediction Model"
   ]
  },
  {
   "cell_type": "markdown",
   "metadata": {},
   "source": [
    "## Libraries Used for the Project"
   ]
  },
  {
   "cell_type": "code",
   "execution_count": 1,
   "metadata": {},
   "outputs": [],
   "source": [
    "\n",
    "# importing library used in the project\n",
    "import pandas as pd\n",
    "import statsmodels.api as sm # For Variance Infaltion Factor (VIF)\n",
    "from statsmodels.stats.outliers_influence import variance_inflation_factor # For Variance Infaltion Factor (VIF)\n",
    "\n",
    "import numpy as np\n",
    "\n",
    "import janitor # For Data Cleaning\n",
    "\n",
    "import matplotlib.pyplot as plt\n",
    "from sklearn.model_selection import train_test_split\n",
    "from sklearn import datasets, linear_model, metrics\n",
    "from sklearn.linear_model import Ridge\n",
    "from sklearn.linear_model import Lasso\n",
    "from sklearn.ensemble import RandomForestRegressor\n",
    "from sklearn.model_selection import GridSearchCV\n",
    "from sklearn.model_selection import RandomizedSearchCV\n",
    "from sklearn.metrics import mean_absolute_error # For MAE evaluation\n",
    "from sklearn.metrics import root_mean_squared_error # For RMSE evaluation\n",
    "from sklearn.metrics import r2_score # For R2 evaluation\n",
    "\n",
    "import seaborn as sns\n",
    "\n",
    "import geopy # For feature engineering calculation distance using coordinates\n",
    "from geopy.distance import geodesic\n",
    "\n",
    "import warnings\n",
    "warnings.filterwarnings(\"ignore\")"
   ]
  },
  {
   "cell_type": "markdown",
   "metadata": {},
   "source": [
    "## Read & Prepare Data"
   ]
  },
  {
   "cell_type": "code",
   "execution_count": 2,
   "metadata": {},
   "outputs": [
    {
     "data": {
      "text/html": [
       "<div>\n",
       "<style scoped>\n",
       "    .dataframe tbody tr th:only-of-type {\n",
       "        vertical-align: middle;\n",
       "    }\n",
       "\n",
       "    .dataframe tbody tr th {\n",
       "        vertical-align: top;\n",
       "    }\n",
       "\n",
       "    .dataframe thead th {\n",
       "        text-align: right;\n",
       "    }\n",
       "</style>\n",
       "<table border=\"1\" class=\"dataframe\">\n",
       "  <thead>\n",
       "    <tr style=\"text-align: right;\">\n",
       "      <th></th>\n",
       "      <th>ID</th>\n",
       "      <th>Delivery_person_ID</th>\n",
       "      <th>Delivery_person_Age</th>\n",
       "      <th>Delivery_person_Ratings</th>\n",
       "      <th>Restaurant_latitude</th>\n",
       "      <th>Restaurant_longitude</th>\n",
       "      <th>Delivery_location_latitude</th>\n",
       "      <th>Delivery_location_longitude</th>\n",
       "      <th>Order_Date</th>\n",
       "      <th>Time_Orderd</th>\n",
       "      <th>Time_Order_picked</th>\n",
       "      <th>Weatherconditions</th>\n",
       "      <th>Road_traffic_density</th>\n",
       "      <th>Vehicle_condition</th>\n",
       "      <th>Type_of_order</th>\n",
       "      <th>Type_of_vehicle</th>\n",
       "      <th>multiple_deliveries</th>\n",
       "      <th>Festival</th>\n",
       "      <th>City</th>\n",
       "      <th>Time_taken(min)</th>\n",
       "    </tr>\n",
       "  </thead>\n",
       "  <tbody>\n",
       "    <tr>\n",
       "      <th>11600</th>\n",
       "      <td>0x8a11</td>\n",
       "      <td>MUMRES08DEL01</td>\n",
       "      <td>35</td>\n",
       "      <td>4.9</td>\n",
       "      <td>19.065838</td>\n",
       "      <td>72.832658</td>\n",
       "      <td>19.135838</td>\n",
       "      <td>72.902658</td>\n",
       "      <td>04-03-2022</td>\n",
       "      <td>17:10:00</td>\n",
       "      <td>17:15:00</td>\n",
       "      <td>conditions Cloudy</td>\n",
       "      <td>Medium</td>\n",
       "      <td>0</td>\n",
       "      <td>Meal</td>\n",
       "      <td>motorcycle</td>\n",
       "      <td>1</td>\n",
       "      <td>No</td>\n",
       "      <td>Metropolitian</td>\n",
       "      <td>(min) 43</td>\n",
       "    </tr>\n",
       "    <tr>\n",
       "      <th>2676</th>\n",
       "      <td>0x9ce5</td>\n",
       "      <td>PUNERES20DEL02</td>\n",
       "      <td>33</td>\n",
       "      <td>5</td>\n",
       "      <td>18.592718</td>\n",
       "      <td>73.773572</td>\n",
       "      <td>18.642718</td>\n",
       "      <td>73.823572</td>\n",
       "      <td>15-03-2022</td>\n",
       "      <td>22:35:00</td>\n",
       "      <td>22:50:00</td>\n",
       "      <td>conditions Stormy</td>\n",
       "      <td>Low</td>\n",
       "      <td>1</td>\n",
       "      <td>Snack</td>\n",
       "      <td>scooter</td>\n",
       "      <td>0</td>\n",
       "      <td>No</td>\n",
       "      <td>Urban</td>\n",
       "      <td>(min) 29</td>\n",
       "    </tr>\n",
       "    <tr>\n",
       "      <th>41790</th>\n",
       "      <td>0xa4f9</td>\n",
       "      <td>RANCHIRES010DEL03</td>\n",
       "      <td>31</td>\n",
       "      <td>5</td>\n",
       "      <td>23.354422</td>\n",
       "      <td>85.332900</td>\n",
       "      <td>23.384422</td>\n",
       "      <td>85.362900</td>\n",
       "      <td>30-03-2022</td>\n",
       "      <td>19:40:00</td>\n",
       "      <td>19:45:00</td>\n",
       "      <td>conditions Sandstorms</td>\n",
       "      <td>Jam</td>\n",
       "      <td>2</td>\n",
       "      <td>Snack</td>\n",
       "      <td>motorcycle</td>\n",
       "      <td>1</td>\n",
       "      <td>No</td>\n",
       "      <td>Metropolitian</td>\n",
       "      <td>(min) 34</td>\n",
       "    </tr>\n",
       "    <tr>\n",
       "      <th>3115</th>\n",
       "      <td>0xcf35</td>\n",
       "      <td>KOLRES18DEL01</td>\n",
       "      <td>22</td>\n",
       "      <td>4.7</td>\n",
       "      <td>22.569367</td>\n",
       "      <td>88.433187</td>\n",
       "      <td>22.609367</td>\n",
       "      <td>88.473187</td>\n",
       "      <td>13-02-2022</td>\n",
       "      <td>15:35:00</td>\n",
       "      <td>15:50:00</td>\n",
       "      <td>conditions Windy</td>\n",
       "      <td>Medium</td>\n",
       "      <td>2</td>\n",
       "      <td>Drinks</td>\n",
       "      <td>motorcycle</td>\n",
       "      <td>1</td>\n",
       "      <td>No</td>\n",
       "      <td>Urban</td>\n",
       "      <td>(min) 27</td>\n",
       "    </tr>\n",
       "  </tbody>\n",
       "</table>\n",
       "</div>"
      ],
      "text/plain": [
       "            ID  Delivery_person_ID Delivery_person_Age  \\\n",
       "11600  0x8a11       MUMRES08DEL01                   35   \n",
       "2676   0x9ce5      PUNERES20DEL02                   33   \n",
       "41790  0xa4f9   RANCHIRES010DEL03                   31   \n",
       "3115   0xcf35       KOLRES18DEL01                   22   \n",
       "\n",
       "      Delivery_person_Ratings  Restaurant_latitude  Restaurant_longitude  \\\n",
       "11600                     4.9            19.065838             72.832658   \n",
       "2676                        5            18.592718             73.773572   \n",
       "41790                       5            23.354422             85.332900   \n",
       "3115                      4.7            22.569367             88.433187   \n",
       "\n",
       "       Delivery_location_latitude  Delivery_location_longitude  Order_Date  \\\n",
       "11600                   19.135838                    72.902658  04-03-2022   \n",
       "2676                    18.642718                    73.823572  15-03-2022   \n",
       "41790                   23.384422                    85.362900  30-03-2022   \n",
       "3115                    22.609367                    88.473187  13-02-2022   \n",
       "\n",
       "      Time_Orderd Time_Order_picked      Weatherconditions  \\\n",
       "11600    17:10:00          17:15:00      conditions Cloudy   \n",
       "2676     22:35:00          22:50:00      conditions Stormy   \n",
       "41790    19:40:00          19:45:00  conditions Sandstorms   \n",
       "3115     15:35:00          15:50:00       conditions Windy   \n",
       "\n",
       "      Road_traffic_density  Vehicle_condition Type_of_order Type_of_vehicle  \\\n",
       "11600              Medium                   0         Meal      motorcycle    \n",
       "2676                  Low                   1        Snack         scooter    \n",
       "41790                 Jam                   2        Snack      motorcycle    \n",
       "3115               Medium                   2       Drinks      motorcycle    \n",
       "\n",
       "      multiple_deliveries Festival            City Time_taken(min)  \n",
       "11600                   1      No   Metropolitian         (min) 43  \n",
       "2676                    0      No           Urban         (min) 29  \n",
       "41790                   1      No   Metropolitian         (min) 34  \n",
       "3115                    1      No           Urban         (min) 27  "
      ]
     },
     "execution_count": 2,
     "metadata": {},
     "output_type": "execute_result"
    }
   ],
   "source": [
    "\n",
    "# Load the data to python and check the data through sample\n",
    "df = pd.read_csv('Food_Delivery_Time_Dataset.csv')\n",
    "df.sample(4)"
   ]
  },
  {
   "cell_type": "code",
   "execution_count": 3,
   "metadata": {},
   "outputs": [
    {
     "name": "stdout",
     "output_type": "stream",
     "text": [
      "<class 'pandas.core.frame.DataFrame'>\n",
      "RangeIndex: 45593 entries, 0 to 45592\n",
      "Data columns (total 20 columns):\n",
      " #   Column                       Non-Null Count  Dtype  \n",
      "---  ------                       --------------  -----  \n",
      " 0   ID                           45593 non-null  object \n",
      " 1   Delivery_person_ID           45593 non-null  object \n",
      " 2   Delivery_person_Age          45593 non-null  object \n",
      " 3   Delivery_person_Ratings      45593 non-null  object \n",
      " 4   Restaurant_latitude          45593 non-null  float64\n",
      " 5   Restaurant_longitude         45593 non-null  float64\n",
      " 6   Delivery_location_latitude   45593 non-null  float64\n",
      " 7   Delivery_location_longitude  45593 non-null  float64\n",
      " 8   Order_Date                   45593 non-null  object \n",
      " 9   Time_Orderd                  45593 non-null  object \n",
      " 10  Time_Order_picked            45593 non-null  object \n",
      " 11  Weatherconditions            45593 non-null  object \n",
      " 12  Road_traffic_density         45593 non-null  object \n",
      " 13  Vehicle_condition            45593 non-null  int64  \n",
      " 14  Type_of_order                45593 non-null  object \n",
      " 15  Type_of_vehicle              45593 non-null  object \n",
      " 16  multiple_deliveries          45593 non-null  object \n",
      " 17  Festival                     45593 non-null  object \n",
      " 18  City                         45593 non-null  object \n",
      " 19  Time_taken(min)              45593 non-null  object \n",
      "dtypes: float64(4), int64(1), object(15)\n",
      "memory usage: 7.0+ MB\n"
     ]
    }
   ],
   "source": [
    "\n",
    "# Check for data structure and type\n",
    "df.info()"
   ]
  },
  {
   "cell_type": "code",
   "execution_count": 4,
   "metadata": {},
   "outputs": [
    {
     "data": {
      "text/plain": [
       "(45593, 20)"
      ]
     },
     "execution_count": 4,
     "metadata": {},
     "output_type": "execute_result"
    }
   ],
   "source": [
    "\n",
    "# Check for the number of rows and columns\n",
    "df.shape"
   ]
  },
  {
   "cell_type": "code",
   "execution_count": 5,
   "metadata": {},
   "outputs": [],
   "source": [
    "\n",
    "# Preliminary preparation\n",
    "\n",
    "# Standardize the column name\n",
    "df_clean = df.clean_names()\n",
    "\n",
    "# Change column name to improve readability\n",
    "df_clean = df_clean.rename(columns={'time_orderd': 'time_ordered', 'weatherconditions': 'weather_conditions'}) \n",
    "\n",
    "# Remove the substring \"condition \" from the weather_conditions column\n",
    "df_clean['weather_conditions'] = df_clean['weather_conditions'].str.replace('conditions ', '', regex=False)\n",
    "\n",
    "# Remove the substring \"(min) \" from the time_taken_min_ column\n",
    "df_clean['time_taken_min_'] = df_clean['time_taken_min_'].str.replace('(min) ', '', regex=False)\n",
    "\n",
    "# Remove whitespace in data\n",
    "df_clean = df_clean.map(lambda x: x.strip() if isinstance(x, str) else x)"
   ]
  },
  {
   "cell_type": "code",
   "execution_count": 6,
   "metadata": {},
   "outputs": [
    {
     "name": "stdout",
     "output_type": "stream",
     "text": [
      "0\n"
     ]
    }
   ],
   "source": [
    "\n",
    "# check for duplicate row\n",
    "print(df_clean.duplicated().sum())"
   ]
  },
  {
   "cell_type": "code",
   "execution_count": 9,
   "metadata": {},
   "outputs": [],
   "source": [
    "\n",
    "# Deleting row that contain \"Nan\"\n",
    "\n",
    "# Identify cells containing the string \"NaN\"\n",
    "nan_mask = df_clean.map(lambda x: x == 'NaN')\n",
    "\n",
    "# Filter out rows where any cell contains the string \"NaN\"\n",
    "df_clean = df_clean[~nan_mask.any(axis=1)]"
   ]
  },
  {
   "cell_type": "code",
   "execution_count": 10,
   "metadata": {},
   "outputs": [
    {
     "name": "stdout",
     "output_type": "stream",
     "text": [
      "<class 'pandas.core.frame.DataFrame'>\n",
      "Index: 41368 entries, 0 to 45592\n",
      "Data columns (total 20 columns):\n",
      " #   Column                       Non-Null Count  Dtype          \n",
      "---  ------                       --------------  -----          \n",
      " 0   id                           41368 non-null  object         \n",
      " 1   delivery_person_id           41368 non-null  object         \n",
      " 2   delivery_person_age          41368 non-null  int64          \n",
      " 3   delivery_person_ratings      41368 non-null  float64        \n",
      " 4   restaurant_latitude          41368 non-null  float64        \n",
      " 5   restaurant_longitude         41368 non-null  float64        \n",
      " 6   delivery_location_latitude   41368 non-null  float64        \n",
      " 7   delivery_location_longitude  41368 non-null  float64        \n",
      " 8   order_date                   41368 non-null  datetime64[ns] \n",
      " 9   time_ordered                 41368 non-null  timedelta64[ns]\n",
      " 10  time_order_picked            41368 non-null  timedelta64[ns]\n",
      " 11  weather_conditions           41368 non-null  object         \n",
      " 12  road_traffic_density         41368 non-null  object         \n",
      " 13  vehicle_condition            41368 non-null  object         \n",
      " 14  type_of_order                41368 non-null  object         \n",
      " 15  type_of_vehicle              41368 non-null  object         \n",
      " 16  multiple_deliveries          41368 non-null  object         \n",
      " 17  festival                     41368 non-null  object         \n",
      " 18  city                         41368 non-null  object         \n",
      " 19  time_taken_min_              41368 non-null  int64          \n",
      "dtypes: datetime64[ns](1), float64(5), int64(2), object(10), timedelta64[ns](2)\n",
      "memory usage: 6.6+ MB\n"
     ]
    }
   ],
   "source": [
    "\n",
    "# Changing Dtypes to appropriate type \n",
    "\n",
    "df_clean['delivery_person_age'] = df_clean['delivery_person_age'].astype('int64')\n",
    "\n",
    "df_clean['delivery_person_ratings'] = df_clean['delivery_person_ratings'].astype('float64')\n",
    "\n",
    "df_clean['order_date'] = pd.to_datetime(df_clean['order_date'], format = '%d-%m-%Y', errors='coerce')\n",
    "\n",
    "df_clean['time_ordered'] =  pd.to_timedelta(df_clean['time_ordered'])\n",
    "\n",
    "df_clean['time_order_picked'] =  pd.to_timedelta(df_clean['time_order_picked'])\n",
    "\n",
    "df_clean['vehicle_condition'] = df_clean['vehicle_condition'].astype('object')\n",
    "\n",
    "df_clean['time_taken_min_'] = df_clean['time_taken_min_'].astype('int64')\n",
    "\n",
    "df_clean.info() # Check if Dtypes changes success"
   ]
  },
  {
   "cell_type": "code",
   "execution_count": 11,
   "metadata": {},
   "outputs": [
    {
     "data": {
      "image/png": "[encoded data removed]",
      "text/plain": [
       "<Figure size 1000x500 with 3 Axes>"
      ]
     },
     "metadata": {},
     "output_type": "display_data"
    }
   ],
   "source": [
    "\n",
    "# Handling outlier (1)\n",
    "\n",
    "# Using box plot to check for outlier\n",
    "selected_cols = ['delivery_person_age', 'delivery_person_ratings', 'time_taken_min_']\n",
    "\n",
    "plt.figure(figsize = (10,5))\n",
    "for i in range(len(selected_cols)):\n",
    "    plt.subplot(1,len(selected_cols),i+1)\n",
    "    sns.boxplot(df_clean[selected_cols[i]], orient = \"v\")\n",
    "    plt.tight_layout()"
   ]
  },
  {
   "cell_type": "code",
   "execution_count": 12,
   "metadata": {},
   "outputs": [],
   "source": [
    "\n",
    "# Handling outlier (2)\n",
    "\n",
    "# Using IQR method for 'delivery_person_age' \n",
    "q1_age = df_clean['delivery_person_age'].quantile(0.25)\n",
    "q3_age = df_clean['delivery_person_age'].quantile(0.75)\n",
    "\n",
    "iqr_age = q3_age-q1_age \n",
    "fence_low_age  = q1_age-1.5*iqr_age\n",
    "fence_high_age = q3_age+1.5*iqr_age\n",
    "\n",
    "# Filter out row that have outlier for 'delivery_person_age'\n",
    "df_clean = df_clean[(df_clean['delivery_person_age'] >= fence_low_age) & (df_clean['delivery_person_age'] <= fence_high_age)]\n",
    "\n",
    "\n",
    "# Using IQR method for 'delivery_person_ratings' \n",
    "q1_delivery = df_clean['delivery_person_ratings'].quantile(0.25)\n",
    "q3_delivery = df_clean['delivery_person_ratings'].quantile(0.75)\n",
    "\n",
    "iqr_delivery = q3_delivery-q1_delivery \n",
    "fence_low_delivery  = q1_delivery-1.5*iqr_delivery\n",
    "fence_high_delivery = q3_delivery+1.5*iqr_delivery\n",
    "\n",
    "# Filter out row that have outlier for 'delivery_person_ratings'\n",
    "df_clean = df_clean[(df_clean['delivery_person_ratings'] >= fence_low_delivery) & (df_clean['delivery_person_ratings'] <= fence_high_delivery)]\n",
    "\n",
    "\n",
    "# Using IQR method for 'time_taken_min_' \n",
    "q1_time = df_clean['time_taken_min_'].quantile(0.25)\n",
    "q3_time = df_clean['time_taken_min_'].quantile(0.75)\n",
    "\n",
    "iqr_time = q3_time-q1_time \n",
    "fence_low_time  = q1_time-1.5*iqr_time\n",
    "fence_high_time = q3_time+1.5*iqr_time\n",
    "\n",
    "# Filter out row that have outlier for 'delivery_person_ratings'\n",
    "df_clean = df_clean[(df_clean['time_taken_min_'] >= fence_low_time) & (df_clean['time_taken_min_'] <= fence_high_time)]"
   ]
  },
  {
   "cell_type": "code",
   "execution_count": 13,
   "metadata": {},
   "outputs": [],
   "source": [
    "\n",
    "# Handling abnormal value (1)\n",
    "\n",
    "# Filter out abnormal restaurant coordinate (0,0) which is null island (https://en.wikipedia.org/wiki/Null_Island)\n",
    "df_clean=df_clean.query('restaurant_latitude != 0 & restaurant_longitude != 0')"
   ]
  },
  {
   "cell_type": "code",
   "execution_count": 15,
   "metadata": {},
   "outputs": [
    {
     "data": {
      "text/plain": [
       "count    36822.000000\n",
       "mean        29.529222\n",
       "std          5.762479\n",
       "min         20.000000\n",
       "25%         25.000000\n",
       "50%         30.000000\n",
       "75%         35.000000\n",
       "max         39.000000\n",
       "Name: delivery_person_age, dtype: float64"
      ]
     },
     "execution_count": 15,
     "metadata": {},
     "output_type": "execute_result"
    }
   ],
   "source": [
    "\n",
    "# Handling abnormal value (2)\n",
    "\n",
    "# Check 'delivery_person_age' for abnormal values\n",
    "df_clean['delivery_person_age'].describe()"
   ]
  },
  {
   "cell_type": "code",
   "execution_count": 14,
   "metadata": {},
   "outputs": [
    {
     "data": {
      "text/plain": [
       "count    36822.000000\n",
       "mean         4.663565\n",
       "std          0.254925\n",
       "min          3.900000\n",
       "25%          4.600000\n",
       "50%          4.700000\n",
       "75%          4.900000\n",
       "max          5.000000\n",
       "Name: delivery_person_ratings, dtype: float64"
      ]
     },
     "execution_count": 14,
     "metadata": {},
     "output_type": "execute_result"
    }
   ],
   "source": [
    "\n",
    "# Handling abnormal value (3)\n",
    "\n",
    "# Check 'delivery_person_ratings' for abnormal values\n",
    "df_clean['delivery_person_ratings'].describe()"
   ]
  },
  {
   "cell_type": "markdown",
   "metadata": {},
   "source": [
    "## FEATURE ENGINEERING"
   ]
  },
  {
   "cell_type": "code",
   "execution_count": 20,
   "metadata": {},
   "outputs": [],
   "source": [
    "\n",
    "# Calculating distance using the restaurant and delivery location coordinates utilising the geopy library\n",
    "df_clean['distance_km'] = df_clean[['restaurant_latitude', \n",
    "                                    'restaurant_longitude', \n",
    "                                    'delivery_location_latitude', \n",
    "                                    'delivery_location_longitude']].apply(\n",
    "    lambda row: geodesic(row[0:2], row[2:4]).km, axis=1)"
   ]
  },
  {
   "cell_type": "code",
   "execution_count": 16,
   "metadata": {},
   "outputs": [],
   "source": [
    "\n",
    "# Generate name of the day from date\n",
    "df_clean['day_name'] = df_clean['order_date'].dt.day_name()\n",
    "\n",
    "# Create a new column for weekday/weekend label\n",
    "weekend = [('Weekend' if day in ['Saturday', 'Sunday'] else 'Weekday') for day in df_clean['day_name']]\n",
    "df_clean['day_type'] = weekend"
   ]
  },
  {
   "cell_type": "code",
   "execution_count": 17,
   "metadata": {},
   "outputs": [],
   "source": [
    "\n",
    "# Calculate pickup_period\n",
    "df_clean['pickup_period'] = df_clean['time_order_picked'] - df_clean['time_ordered']\n",
    "\n",
    "df_clean['pickup_period'] = df_clean['pickup_period'].apply(lambda x: x + pd.Timedelta(days=1) if x < pd.Timedelta(days=0) else x)"
   ]
  },
  {
   "cell_type": "code",
   "execution_count": 18,
   "metadata": {},
   "outputs": [],
   "source": [
    "\n",
    "# Grouping the order time\n",
    "\n",
    "# Function to create label\n",
    "def label_time(td):\n",
    "    total_seconds = td.total_seconds()\n",
    "    hours = (total_seconds // 3600) % 24  # Extract hours from timedelta\n",
    "    if 6 <= hours < 12:\n",
    "        return 'Breakfast'\n",
    "    elif 12 <= hours < 16:\n",
    "        return 'Lunch'\n",
    "    elif 16 <= hours < 21:\n",
    "        return 'Dinner'\n",
    "    else:\n",
    "        return 'Late Night'\n",
    "\n",
    "# Apply the function to create a new column\n",
    "df_clean['ordered_class'] = df_clean['time_ordered'].apply(label_time)"
   ]
  },
  {
   "cell_type": "code",
   "execution_count": 21,
   "metadata": {},
   "outputs": [
    {
     "data": {
      "text/plain": [
       "count    36682.000000\n",
       "mean         9.601562\n",
       "std          5.582102\n",
       "min          1.463837\n",
       "25%          4.647989\n",
       "50%          9.160879\n",
       "75%         13.592749\n",
       "max         20.942906\n",
       "Name: distance_km, dtype: float64"
      ]
     },
     "execution_count": 21,
     "metadata": {},
     "output_type": "execute_result"
    }
   ],
   "source": [
    "\n",
    "# Handling outlier for numeric feature \n",
    "\n",
    "# Using IQR method for 'distance_km' \n",
    "q1_dist = df_clean['distance_km'].quantile(0.25)\n",
    "q3_dist = df_clean['distance_km'].quantile(0.75)\n",
    "\n",
    "iqr_dist = q3_dist-q1_dist \n",
    "fence_low_dist  = q1_dist-1.5*iqr_dist\n",
    "fence_high_dist = q3_age+1.5*iqr_dist\n",
    "\n",
    "# Filter out row that have outlier for 'distance_km'\n",
    "df_clean = df_clean[(df_clean['distance_km'] >= fence_low_dist) & (df_clean['distance_km'] <= fence_high_dist)]\n",
    "\n",
    "\n",
    "df_clean['distance_km'].describe()"
   ]
  },
  {
   "cell_type": "code",
   "execution_count": 22,
   "metadata": {},
   "outputs": [
    {
     "name": "stdout",
     "output_type": "stream",
     "text": [
      "<class 'pandas.core.frame.DataFrame'>\n",
      "Index: 36682 entries, 0 to 45592\n",
      "Data columns (total 25 columns):\n",
      " #   Column                       Non-Null Count  Dtype          \n",
      "---  ------                       --------------  -----          \n",
      " 0   id                           36682 non-null  object         \n",
      " 1   delivery_person_id           36682 non-null  object         \n",
      " 2   delivery_person_age          36682 non-null  int64          \n",
      " 3   delivery_person_ratings      36682 non-null  float64        \n",
      " 4   restaurant_latitude          36682 non-null  float64        \n",
      " 5   restaurant_longitude         36682 non-null  float64        \n",
      " 6   delivery_location_latitude   36682 non-null  float64        \n",
      " 7   delivery_location_longitude  36682 non-null  float64        \n",
      " 8   order_date                   36682 non-null  datetime64[ns] \n",
      " 9   time_ordered                 36682 non-null  timedelta64[ns]\n",
      " 10  time_order_picked            36682 non-null  timedelta64[ns]\n",
      " 11  weather_conditions           36682 non-null  object         \n",
      " 12  road_traffic_density         36682 non-null  object         \n",
      " 13  vehicle_condition            36682 non-null  object         \n",
      " 14  type_of_order                36682 non-null  object         \n",
      " 15  type_of_vehicle              36682 non-null  object         \n",
      " 16  multiple_deliveries          36682 non-null  object         \n",
      " 17  festival                     36682 non-null  object         \n",
      " 18  city                         36682 non-null  object         \n",
      " 19  time_taken_min_              36682 non-null  int64          \n",
      " 20  day_name                     36682 non-null  object         \n",
      " 21  day_type                     36682 non-null  object         \n",
      " 22  pickup_period                36682 non-null  timedelta64[ns]\n",
      " 23  ordered_class                36682 non-null  object         \n",
      " 24  distance_km                  36682 non-null  float64        \n",
      "dtypes: datetime64[ns](1), float64(6), int64(2), object(13), timedelta64[ns](3)\n",
      "memory usage: 7.3+ MB\n"
     ]
    }
   ],
   "source": [
    "\n",
    "df_clean.info()"
   ]
  },
  {
   "cell_type": "markdown",
   "metadata": {},
   "source": [
    "## One Hot Encoding for Object Type Feature"
   ]
  },
  {
   "cell_type": "code",
   "execution_count": 141,
   "metadata": {},
   "outputs": [],
   "source": [
    "\n",
    "# Prepare one hot encoding for column with 'Object' Dtypes (1)\n",
    "\n",
    "# Dropping unused column from df_clean\n",
    "df_clean.drop(['id', 'delivery_person_id', 'delivery_person_age', 'restaurant_latitude', 'restaurant_longitude', 'delivery_location_latitude', 'delivery_location_longitude', 'order_date', 'time_ordered', 'time_order_picked', 'day_name'], axis = 1, inplace = True)\n"
   ]
  },
  {
   "cell_type": "code",
   "execution_count": 142,
   "metadata": {},
   "outputs": [
    {
     "data": {
      "text/html": [
       "<div>\n",
       "<style scoped>\n",
       "    .dataframe tbody tr th:only-of-type {\n",
       "        vertical-align: middle;\n",
       "    }\n",
       "\n",
       "    .dataframe tbody tr th {\n",
       "        vertical-align: top;\n",
       "    }\n",
       "\n",
       "    .dataframe thead th {\n",
       "        text-align: right;\n",
       "    }\n",
       "</style>\n",
       "<table border=\"1\" class=\"dataframe\">\n",
       "  <thead>\n",
       "    <tr style=\"text-align: right;\">\n",
       "      <th></th>\n",
       "      <th>delivery_person_ratings</th>\n",
       "      <th>time_taken_min_</th>\n",
       "      <th>distance_km</th>\n",
       "      <th>pickup_period</th>\n",
       "      <th>weather_conditions_Cloudy</th>\n",
       "      <th>weather_conditions_Fog</th>\n",
       "      <th>weather_conditions_Sandstorms</th>\n",
       "      <th>weather_conditions_Stormy</th>\n",
       "      <th>weather_conditions_Sunny</th>\n",
       "      <th>weather_conditions_Windy</th>\n",
       "      <th>...</th>\n",
       "      <th>festival_Yes</th>\n",
       "      <th>city_Metropolitian</th>\n",
       "      <th>city_Semi-Urban</th>\n",
       "      <th>city_Urban</th>\n",
       "      <th>day_type_Weekday</th>\n",
       "      <th>day_type_Weekend</th>\n",
       "      <th>ordered_class_Breakfast</th>\n",
       "      <th>ordered_class_Dinner</th>\n",
       "      <th>ordered_class_Late Night</th>\n",
       "      <th>ordered_class_Lunch</th>\n",
       "    </tr>\n",
       "  </thead>\n",
       "  <tbody>\n",
       "    <tr>\n",
       "      <th>20023</th>\n",
       "      <td>4.7</td>\n",
       "      <td>23</td>\n",
       "      <td>3.054414</td>\n",
       "      <td>0 days 00:15:00</td>\n",
       "      <td>False</td>\n",
       "      <td>False</td>\n",
       "      <td>False</td>\n",
       "      <td>False</td>\n",
       "      <td>True</td>\n",
       "      <td>False</td>\n",
       "      <td>...</td>\n",
       "      <td>False</td>\n",
       "      <td>True</td>\n",
       "      <td>False</td>\n",
       "      <td>False</td>\n",
       "      <td>True</td>\n",
       "      <td>False</td>\n",
       "      <td>True</td>\n",
       "      <td>False</td>\n",
       "      <td>False</td>\n",
       "      <td>False</td>\n",
       "    </tr>\n",
       "    <tr>\n",
       "      <th>10752</th>\n",
       "      <td>4.7</td>\n",
       "      <td>17</td>\n",
       "      <td>1.518098</td>\n",
       "      <td>0 days 00:15:00</td>\n",
       "      <td>False</td>\n",
       "      <td>True</td>\n",
       "      <td>False</td>\n",
       "      <td>False</td>\n",
       "      <td>False</td>\n",
       "      <td>False</td>\n",
       "      <td>...</td>\n",
       "      <td>False</td>\n",
       "      <td>True</td>\n",
       "      <td>False</td>\n",
       "      <td>False</td>\n",
       "      <td>False</td>\n",
       "      <td>True</td>\n",
       "      <td>True</td>\n",
       "      <td>False</td>\n",
       "      <td>False</td>\n",
       "      <td>False</td>\n",
       "    </tr>\n",
       "    <tr>\n",
       "      <th>8451</th>\n",
       "      <td>4.3</td>\n",
       "      <td>37</td>\n",
       "      <td>13.661065</td>\n",
       "      <td>0 days 00:15:00</td>\n",
       "      <td>False</td>\n",
       "      <td>False</td>\n",
       "      <td>False</td>\n",
       "      <td>False</td>\n",
       "      <td>False</td>\n",
       "      <td>True</td>\n",
       "      <td>...</td>\n",
       "      <td>False</td>\n",
       "      <td>True</td>\n",
       "      <td>False</td>\n",
       "      <td>False</td>\n",
       "      <td>True</td>\n",
       "      <td>False</td>\n",
       "      <td>False</td>\n",
       "      <td>True</td>\n",
       "      <td>False</td>\n",
       "      <td>False</td>\n",
       "    </tr>\n",
       "    <tr>\n",
       "      <th>22200</th>\n",
       "      <td>4.6</td>\n",
       "      <td>15</td>\n",
       "      <td>3.098575</td>\n",
       "      <td>0 days 00:15:00</td>\n",
       "      <td>False</td>\n",
       "      <td>False</td>\n",
       "      <td>False</td>\n",
       "      <td>False</td>\n",
       "      <td>True</td>\n",
       "      <td>False</td>\n",
       "      <td>...</td>\n",
       "      <td>False</td>\n",
       "      <td>False</td>\n",
       "      <td>False</td>\n",
       "      <td>True</td>\n",
       "      <td>True</td>\n",
       "      <td>False</td>\n",
       "      <td>True</td>\n",
       "      <td>False</td>\n",
       "      <td>False</td>\n",
       "      <td>False</td>\n",
       "    </tr>\n",
       "    <tr>\n",
       "      <th>38214</th>\n",
       "      <td>4.7</td>\n",
       "      <td>29</td>\n",
       "      <td>4.654235</td>\n",
       "      <td>0 days 00:05:00</td>\n",
       "      <td>False</td>\n",
       "      <td>False</td>\n",
       "      <td>False</td>\n",
       "      <td>False</td>\n",
       "      <td>False</td>\n",
       "      <td>True</td>\n",
       "      <td>...</td>\n",
       "      <td>False</td>\n",
       "      <td>True</td>\n",
       "      <td>False</td>\n",
       "      <td>False</td>\n",
       "      <td>True</td>\n",
       "      <td>False</td>\n",
       "      <td>False</td>\n",
       "      <td>True</td>\n",
       "      <td>False</td>\n",
       "      <td>False</td>\n",
       "    </tr>\n",
       "  </tbody>\n",
       "</table>\n",
       "<p>5 rows × 39 columns</p>\n",
       "</div>"
      ],
      "text/plain": [
       "       delivery_person_ratings  time_taken_min_  distance_km   pickup_period  \\\n",
       "20023                      4.7               23     3.054414 0 days 00:15:00   \n",
       "10752                      4.7               17     1.518098 0 days 00:15:00   \n",
       "8451                       4.3               37    13.661065 0 days 00:15:00   \n",
       "22200                      4.6               15     3.098575 0 days 00:15:00   \n",
       "38214                      4.7               29     4.654235 0 days 00:05:00   \n",
       "\n",
       "       weather_conditions_Cloudy  weather_conditions_Fog  \\\n",
       "20023                      False                   False   \n",
       "10752                      False                    True   \n",
       "8451                       False                   False   \n",
       "22200                      False                   False   \n",
       "38214                      False                   False   \n",
       "\n",
       "       weather_conditions_Sandstorms  weather_conditions_Stormy  \\\n",
       "20023                          False                      False   \n",
       "10752                          False                      False   \n",
       "8451                           False                      False   \n",
       "22200                          False                      False   \n",
       "38214                          False                      False   \n",
       "\n",
       "       weather_conditions_Sunny  weather_conditions_Windy  ...  festival_Yes  \\\n",
       "20023                      True                     False  ...         False   \n",
       "10752                     False                     False  ...         False   \n",
       "8451                      False                      True  ...         False   \n",
       "22200                      True                     False  ...         False   \n",
       "38214                     False                      True  ...         False   \n",
       "\n",
       "       city_Metropolitian  city_Semi-Urban  city_Urban  day_type_Weekday  \\\n",
       "20023                True            False       False              True   \n",
       "10752                True            False       False             False   \n",
       "8451                 True            False       False              True   \n",
       "22200               False            False        True              True   \n",
       "38214                True            False       False              True   \n",
       "\n",
       "       day_type_Weekend  ordered_class_Breakfast  ordered_class_Dinner  \\\n",
       "20023             False                     True                 False   \n",
       "10752              True                     True                 False   \n",
       "8451              False                    False                  True   \n",
       "22200             False                     True                 False   \n",
       "38214             False                    False                  True   \n",
       "\n",
       "       ordered_class_Late Night  ordered_class_Lunch  \n",
       "20023                     False                False  \n",
       "10752                     False                False  \n",
       "8451                      False                False  \n",
       "22200                     False                False  \n",
       "38214                     False                False  \n",
       "\n",
       "[5 rows x 39 columns]"
      ]
     },
     "execution_count": 142,
     "metadata": {},
     "output_type": "execute_result"
    }
   ],
   "source": [
    "\n",
    "# Prepare one hot encoding for column with 'Object' Dtypes (2)\n",
    "\n",
    "# One Hot Encoding\n",
    "df_object = df_clean.select_dtypes([\"object\"])\n",
    "obj_cols = list(df_object.columns)\n",
    "\n",
    "df_result = pd.get_dummies(df_clean, columns = obj_cols)\n",
    "\n",
    "df_result.sample (5)\n"
   ]
  },
  {
   "cell_type": "markdown",
   "metadata": {},
   "source": [
    "## Feature Selection"
   ]
  },
  {
   "cell_type": "code",
   "execution_count": 143,
   "metadata": {},
   "outputs": [
    {
     "name": "stdout",
     "output_type": "stream",
     "text": [
      "Index(['delivery_person_ratings', 'time_taken_min_', 'distance_km',\n",
      "       'weather_conditions_Cloudy', 'weather_conditions_Fog',\n",
      "       'weather_conditions_Sunny', 'road_traffic_density_Jam',\n",
      "       'road_traffic_density_Low', 'vehicle_condition_0',\n",
      "       'vehicle_condition_1', 'vehicle_condition_2',\n",
      "       'type_of_vehicle_motorcycle', 'type_of_vehicle_scooter',\n",
      "       'multiple_deliveries_0', 'multiple_deliveries_2',\n",
      "       'multiple_deliveries_3', 'festival_No', 'festival_Yes',\n",
      "       'city_Metropolitian', 'city_Semi-Urban', 'city_Urban',\n",
      "       'ordered_class_Breakfast', 'ordered_class_Dinner'],\n",
      "      dtype='object')\n"
     ]
    }
   ],
   "source": [
    "\n",
    "# Selecting features with correlation more than 0.1 or -0.1 to the time_taken_min_\n",
    "correlation_matrix = df_result.corr()\n",
    "target_variable = 'time_taken_min_'\n",
    "target_correlation = correlation_matrix[target_variable].abs()\n",
    "selected_features = target_correlation[target_correlation > 0.1].index.tolist()\n",
    "df_selected = df_result[selected_features]\n",
    "\n",
    "print(df_selected.columns)"
   ]
  },
  {
   "cell_type": "code",
   "execution_count": 144,
   "metadata": {},
   "outputs": [
    {
     "name": "stdout",
     "output_type": "stream",
     "text": [
      "                 Predictor         VIF\n",
      "0                    const  341.626412\n",
      "1  delivery_person_ratings    1.001642\n",
      "2              distance_km    1.001642\n"
     ]
    }
   ],
   "source": [
    "\n",
    "# Variance Inflation Factor (VIF)\n",
    "\n",
    "# Select numerical predictors\n",
    "numerical_predictors = ['delivery_person_ratings', 'distance_km']\n",
    "\n",
    "# Prepare the data for VIF calculation\n",
    "calc_vif = df_clean[numerical_predictors]\n",
    "\n",
    "# Add a constant for intercept (for VIF calculation)\n",
    "calc_vif = sm.add_constant(calc_vif)\n",
    "\n",
    "# Calculate VIF\n",
    "vif_data = pd.DataFrame()\n",
    "vif_data['Predictor'] = calc_vif.columns\n",
    "vif_data['VIF'] = [variance_inflation_factor(calc_vif.values, i) for i in range(calc_vif.shape[1])]\n",
    "\n",
    "print(vif_data)"
   ]
  },
  {
   "cell_type": "markdown",
   "metadata": {},
   "source": [
    "##### Based on the VIF calculation result there is no multicollinearity issues for the numeric feature used in the model"
   ]
  },
  {
   "cell_type": "markdown",
   "metadata": {},
   "source": [
    "## Split Train Test Data"
   ]
  },
  {
   "cell_type": "code",
   "execution_count": 145,
   "metadata": {},
   "outputs": [
    {
     "name": "stdout",
     "output_type": "stream",
     "text": [
      "(29345, 22)\n",
      "(7337, 22)\n",
      "(29345,)\n",
      "(7337,)\n"
     ]
    }
   ],
   "source": [
    "\n",
    "# Splitting Train Test\n",
    "y = df_selected['time_taken_min_']\n",
    "X = df_selected.drop(columns = ['time_taken_min_'])\n",
    "\n",
    "# stratified random splitting X and y into training and testing sets\n",
    "X_train, X_test, y_train, y_test = train_test_split(X, y, test_size = 0.2,\n",
    "                                            random_state = 42)\n",
    "\n",
    "print(X_train.shape)\n",
    "print(X_test.shape)\n",
    "print(y_train.shape)\n",
    "print(y_test.shape)"
   ]
  },
  {
   "cell_type": "markdown",
   "metadata": {},
   "source": [
    "## Modelling"
   ]
  },
  {
   "cell_type": "markdown",
   "metadata": {},
   "source": [
    "### Linear Regression Modelling"
   ]
  },
  {
   "cell_type": "code",
   "execution_count": 146,
   "metadata": {},
   "outputs": [
    {
     "name": "stdout",
     "output_type": "stream",
     "text": [
      "Coefficients:  [-7.26159399  0.33289318  2.50123382  2.51327489 -3.66061277  2.02698656\n",
      " -5.65924127  2.83339116 -1.44203592 -1.39135524  0.09017712  0.17085035\n",
      " -2.17532602  6.96524822 10.58045983 -4.54479008  4.54479008 -2.23750959\n",
      "  6.63474479 -4.39723519  1.58464663 -0.61234263]\n",
      "Intercept:  65.08582948415419\n"
     ]
    }
   ],
   "source": [
    "\n",
    "# Create linear regression object\n",
    "linear_reg = linear_model.LinearRegression()\n",
    "\n",
    "# Fit the model\n",
    "linear_reg.fit(X_train, y_train)\n",
    "\n",
    "# Coefficients and Intercept\n",
    "print('Coefficients: ', linear_reg.coef_)\n",
    "print('Intercept: ', linear_reg.intercept_)"
   ]
  },
  {
   "cell_type": "markdown",
   "metadata": {},
   "source": [
    "### Linear Regression Model Evaluation"
   ]
  },
  {
   "cell_type": "code",
   "execution_count": 147,
   "metadata": {},
   "outputs": [
    {
     "name": "stdout",
     "output_type": "stream",
     "text": [
      "MAE  :  4.99676718121081\n",
      "RMSE :  6.181564862384472\n",
      "R2   :  0.53411528148029\n"
     ]
    }
   ],
   "source": [
    "\n",
    "# Fit the test data into model\n",
    "y_pred = linear_reg.predict(X_test)\n",
    "\n",
    "# Mean Absolute Error (MAE)\n",
    "MAE = mean_absolute_error(y_test, y_pred)\n",
    "\n",
    "# Root Mean Squared Error (RMSE)\n",
    "RMSE = root_mean_squared_error(y_test, y_pred)\n",
    "\n",
    "# R2\n",
    "r2 = r2_score(y_test, y_pred)\n",
    "\n",
    "\n",
    "# Print the result\n",
    "print('MAE  : ', MAE)\n",
    "print('RMSE : ', RMSE)\n",
    "print('R2   : ', r2)"
   ]
  },
  {
   "cell_type": "markdown",
   "metadata": {},
   "source": [
    "### Ridge Regression Modelling with Hyperparameter Tuning"
   ]
  },
  {
   "cell_type": "code",
   "execution_count": 148,
   "metadata": {},
   "outputs": [
    {
     "name": "stdout",
     "output_type": "stream",
     "text": [
      "Best alpha: 0.3906939937054613\n",
      "Coefficients:  [-7.2604545   0.3329064   2.50126013  2.51325021 -3.6605595   2.0274577\n",
      " -5.65885526  2.83355213 -1.44213906 -1.39141307  0.09035694  0.17082309\n",
      " -2.17556764  6.96300204 10.5604515  -4.54449626  4.54449626 -2.22671595\n",
      "  6.61303354 -4.38631759  1.58443398 -0.61205255]\n",
      "Intercept:  65.06919070641854\n"
     ]
    }
   ],
   "source": [
    "\n",
    "# Create ridge regression object \n",
    "ridge_reg = Ridge()\n",
    "\n",
    "# Define the hyperparameter grid\n",
    "params = {'alpha': np.logspace(-4, 4, 50)}\n",
    "\n",
    "# Set up the GridSearchCV\n",
    "grid_search = GridSearchCV(estimator = ridge_reg, param_grid = params, scoring = 'neg_mean_squared_error', cv=5)\n",
    "\n",
    "# Fit the model\n",
    "grid_search.fit(X_train, y_train)\n",
    "\n",
    "# Get the best model\n",
    "best_ridge = grid_search.best_estimator_\n",
    "\n",
    "# Print the best alpha value\n",
    "print(f\"Best alpha: {grid_search.best_params_['alpha']}\")\n",
    "\n",
    "# Coefficients and Intercept\n",
    "print('Coefficients: ', best_ridge.coef_)\n",
    "print('Intercept: ', best_ridge.intercept_)"
   ]
  },
  {
   "cell_type": "markdown",
   "metadata": {},
   "source": [
    "### Ridge Regression Model Evaluation"
   ]
  },
  {
   "cell_type": "code",
   "execution_count": 149,
   "metadata": {},
   "outputs": [
    {
     "name": "stdout",
     "output_type": "stream",
     "text": [
      "MAE  :  4.996794514926257\n",
      "RMSE :  6.181576480946274\n",
      "R2   :  0.534113530171163\n"
     ]
    }
   ],
   "source": [
    "\n",
    "# Fit the test data into model\n",
    "y_pred = best_ridge.predict(X_test)\n",
    "\n",
    "# Mean Absolute Error (MAE)\n",
    "MAE = mean_absolute_error(y_test, y_pred)\n",
    "\n",
    "# Root Mean Squared Error (RMSE)\n",
    "RMSE = root_mean_squared_error(y_test, y_pred)\n",
    "\n",
    "# R2\n",
    "r2 = r2_score(y_test, y_pred)\n",
    "\n",
    "\n",
    "# Print the result\n",
    "print('MAE  : ', MAE)\n",
    "print('RMSE : ', RMSE)\n",
    "print('R2   : ', r2)"
   ]
  },
  {
   "cell_type": "markdown",
   "metadata": {},
   "source": [
    "### Lasso Regression Modelling with Hyperparameter Tuning"
   ]
  },
  {
   "cell_type": "code",
   "execution_count": 150,
   "metadata": {},
   "outputs": [
    {
     "name": "stdout",
     "output_type": "stream",
     "text": [
      "Best alpha: 0.0004498432668969444\n",
      "Coefficients:  [-7.25720509  0.33273771  2.4988477   2.51071239 -3.65969782  2.02753129\n",
      " -5.6545875   4.22888307 -0.04587308 -0.          0.07578265  0.15576828\n",
      " -2.17505118  6.95785515 10.52579242 -9.07689453  0.          0.\n",
      "  8.70149747 -2.15837403  1.57880633 -0.60794954]\n",
      "Intercept:  65.97960715475591\n"
     ]
    }
   ],
   "source": [
    "\n",
    "# Create lasso regression object \n",
    "lasso_reg = Lasso()\n",
    "\n",
    "# Define the hyperparameter grid\n",
    "params = {'alpha': np.logspace(-4, 4, 50)}\n",
    "\n",
    "# Set up the GridSearchCV\n",
    "grid_search = GridSearchCV(estimator = lasso_reg, param_grid = params, scoring = 'neg_mean_squared_error', cv=5)\n",
    "\n",
    "# Fit the model\n",
    "grid_search.fit(X_train, y_train)\n",
    "\n",
    "# Get the best model\n",
    "best_lasso = grid_search.best_estimator_\n",
    "\n",
    "# Print the best alpha value\n",
    "print(f\"Best alpha: {grid_search.best_params_['alpha']}\")\n",
    "\n",
    "# Coefficients and Intercept\n",
    "print('Coefficients: ', best_lasso.coef_)\n",
    "print('Intercept: ', best_lasso.intercept_)"
   ]
  },
  {
   "cell_type": "markdown",
   "metadata": {},
   "source": [
    "### Lasso Regression Model Evaluation"
   ]
  },
  {
   "cell_type": "code",
   "execution_count": 151,
   "metadata": {},
   "outputs": [
    {
     "name": "stdout",
     "output_type": "stream",
     "text": [
      "MAE  :  4.996885811673846\n",
      "RMSE :  6.181672314618077\n",
      "R2   :  0.5340990846790548\n"
     ]
    }
   ],
   "source": [
    "\n",
    "# Fit the test data into model\n",
    "y_pred = best_lasso.predict(X_test)\n",
    "\n",
    "# Mean Absolute Error (MAE)\n",
    "MAE = mean_absolute_error(y_test, y_pred)\n",
    "\n",
    "# Root Mean Squared Error (RMSE)\n",
    "RMSE = root_mean_squared_error(y_test, y_pred)\n",
    "\n",
    "# R2\n",
    "r2 = r2_score(y_test, y_pred)\n",
    "\n",
    "\n",
    "# Print the result\n",
    "print('MAE  : ', MAE)\n",
    "print('RMSE : ', RMSE)\n",
    "print('R2   : ', r2)\n"
   ]
  },
  {
   "cell_type": "markdown",
   "metadata": {},
   "source": [
    "### Random Forest Regression Model with Hyperparameter Tuning"
   ]
  },
  {
   "cell_type": "code",
   "execution_count": 163,
   "metadata": {},
   "outputs": [
    {
     "name": "stdout",
     "output_type": "stream",
     "text": [
      "Fitting 5 folds for each of 100 candidates, totalling 500 fits\n",
      "Best parameters: {'n_estimators': 400, 'min_samples_split': 10, 'min_samples_leaf': 4, 'max_features': 'sqrt', 'max_depth': 20, 'bootstrap': True}\n",
      "Feature Importances:  [0.19666353 0.15522642 0.05164137 0.05313432 0.06188444 0.06240825\n",
      " 0.11876596 0.07104236 0.00964912 0.00791774 0.00954222 0.0040382\n",
      " 0.02644965 0.0598794  0.00935695 0.02551788 0.02563566 0.00748195\n",
      " 0.00171579 0.00998939 0.00949282 0.02256659]\n"
     ]
    }
   ],
   "source": [
    "\n",
    "# Create Random Forest regressor object\n",
    "rf_reg = RandomForestRegressor()\n",
    "\n",
    "# Define the hyperparameter grid\n",
    "params = {\n",
    "    'n_estimators': [100, 200, 300, 400, 500],  # Number of trees in the forest\n",
    "    'max_features': ['auto', 'sqrt'],           # Number of features to consider at every split\n",
    "    'max_depth': [10, 20, 30, 40, 50, None],    # Maximum number of levels in each decision tree\n",
    "    'min_samples_split': [2, 5, 10],            # Minimum number of samples required to split an internal node\n",
    "    'min_samples_leaf': [1, 2, 4],              # Minimum number of samples required to be at a leaf node\n",
    "    'bootstrap': [True, False]                  # Method of selecting samples for training each tree\n",
    "}\n",
    "\n",
    "# Set up the RandomizedSearchCV\n",
    "random_search = RandomizedSearchCV(estimator=rf_reg, param_distributions=params, \n",
    "                                   n_iter=100, scoring='neg_mean_squared_error', cv=5, \n",
    "                                   verbose=1, random_state=42, n_jobs=-1)\n",
    "\n",
    "# Fit the model\n",
    "random_search.fit(X_train, y_train)\n",
    "\n",
    "# Get the best model\n",
    "best_rf = random_search.best_estimator_\n",
    "\n",
    "# Print the best parameters\n",
    "print(f\"Best parameters: {random_search.best_params_}\")\n",
    "\n",
    "# Feature Importance\n",
    "print('Feature Importances: ', best_rf.feature_importances_)"
   ]
  },
  {
   "cell_type": "markdown",
   "metadata": {},
   "source": [
    "### Random Forest Regression Model Evaluation"
   ]
  },
  {
   "cell_type": "code",
   "execution_count": 164,
   "metadata": {},
   "outputs": [
    {
     "name": "stdout",
     "output_type": "stream",
     "text": [
      "MAE  :  3.813071208216256\n",
      "RMSE :  4.844491149136784\n",
      "R2   :  0.7122203374471763\n"
     ]
    }
   ],
   "source": [
    "\n",
    "# Fit the test data into model\n",
    "y_pred = best_rf.predict(X_test)\n",
    "\n",
    "# Evaluating Model\n",
    "MAE = mean_absolute_error(y_test, y_pred)\n",
    "RMSE = root_mean_squared_error(y_test, y_pred)\n",
    "r2 = r2_score(y_test, y_pred)\n",
    "\n",
    "\n",
    "# Print the result\n",
    "print('MAE  : ', MAE)\n",
    "print('RMSE : ', RMSE)\n",
    "print('R2   : ', r2)"
   ]
  },
  {
   "cell_type": "markdown",
   "metadata": {},
   "source": [
    "## Split Train Test Data (Stratified Random Sampling)"
   ]
  },
  {
   "cell_type": "code",
   "execution_count": 152,
   "metadata": {},
   "outputs": [],
   "source": [
    "\n",
    "# Splitting Train Test\n",
    "y = df_selected['time_taken_min_']\n",
    "X = df_selected.drop(columns = ['time_taken_min_'])\n",
    "\n",
    "# Define the number of quantiles (strata)\n",
    "n_quantiles = 13\n",
    "\n",
    "# Create quantile groups\n",
    "qcuts = pd.qcut(df_selected['time_taken_min_'], n_quantiles, labels = False)\n",
    "\n",
    "# Stratified split using quantile groups\n",
    "X_train, X_test, y_train, y_test = train_test_split(X, y, test_size = 0.2,\n",
    "                                                  stratify = qcuts,\n",
    "                                                  random_state = 42)\n"
   ]
  },
  {
   "cell_type": "markdown",
   "metadata": {},
   "source": [
    "### Linear Regression Modelling (Stratified)"
   ]
  },
  {
   "cell_type": "code",
   "execution_count": 153,
   "metadata": {},
   "outputs": [
    {
     "name": "stdout",
     "output_type": "stream",
     "text": [
      "Coefficients:  [-7.35637699  0.33944766  2.59254685  2.5523418  -3.52225653  2.01197053\n",
      " -5.61595596  2.84300908 -1.42090591 -1.42210317  0.0833094   0.17085327\n",
      " -2.20421403  6.99885445 10.45197293 -4.65618617  4.65618617 -2.29938931\n",
      "  6.66827511 -4.3688858   1.62272746 -0.63119681]\n",
      "Intercept:  65.55774404418847\n"
     ]
    }
   ],
   "source": [
    "\n",
    "# Create linear regression object\n",
    "linear_reg = linear_model.LinearRegression()\n",
    "\n",
    "# Fit the model\n",
    "linear_reg.fit(X_train, y_train)\n",
    "\n",
    "# Coefficients and Intercept\n",
    "print('Coefficients: ', linear_reg.coef_)\n",
    "print('Intercept: ', linear_reg.intercept_)"
   ]
  },
  {
   "cell_type": "markdown",
   "metadata": {},
   "source": [
    "### Linear Regression Modelling (Stratified) Evaluation"
   ]
  },
  {
   "cell_type": "code",
   "execution_count": 154,
   "metadata": {},
   "outputs": [
    {
     "name": "stdout",
     "output_type": "stream",
     "text": [
      "MAE  :  4.869066817619107\n",
      "RMSE :  6.059298286740979\n",
      "R2   :  0.5497969526781332\n"
     ]
    }
   ],
   "source": [
    "\n",
    "# Fit the test data into model\n",
    "y_pred = linear_reg.predict(X_test)\n",
    "\n",
    "# Evaluating Model\n",
    "MAE = mean_absolute_error(y_test, y_pred)\n",
    "RMSE = root_mean_squared_error(y_test, y_pred)\n",
    "r2 = r2_score(y_test, y_pred)\n",
    "\n",
    "\n",
    "# Print the result\n",
    "print('MAE  : ', MAE)\n",
    "print('RMSE : ', RMSE)\n",
    "print('R2   : ', r2)\n"
   ]
  },
  {
   "cell_type": "markdown",
   "metadata": {},
   "source": [
    "### Ridge Regression Modelling (STratified) with Hyperparameter Tuning"
   ]
  },
  {
   "cell_type": "code",
   "execution_count": 155,
   "metadata": {},
   "outputs": [
    {
     "name": "stdout",
     "output_type": "stream",
     "text": [
      "Best alpha: 0.0001\n",
      "Coefficients:  [-7.35637669  0.33944766  2.59254687  2.55234179 -3.52225652  2.01197065\n",
      " -5.61595586  2.84300887 -1.42090619 -1.42210345  0.08330946  0.17085327\n",
      " -2.20421409  6.99885388 10.45196776 -4.65618606  4.65618606 -2.29938615\n",
      "  6.66826938 -4.36888261  1.62272741 -0.63119673]\n",
      "Intercept:  65.55773953383252\n"
     ]
    }
   ],
   "source": [
    "\n",
    "# Create ridge regression object \n",
    "ridge_reg = Ridge()\n",
    "\n",
    "# Define the hyperparameter grid\n",
    "params = {'alpha': np.logspace(-4, 4, 50)}\n",
    "\n",
    "# Set up the GridSearchCV\n",
    "grid_search = GridSearchCV(estimator = ridge_reg, param_grid = params, scoring = 'neg_mean_squared_error', cv=5)\n",
    "\n",
    "# Fit the model\n",
    "grid_search.fit(X_train, y_train)\n",
    "\n",
    "# Get the best model\n",
    "best_ridge = grid_search.best_estimator_\n",
    "\n",
    "# Print the best alpha value\n",
    "print(f\"Best alpha: {grid_search.best_params_['alpha']}\")\n",
    "\n",
    "# Coefficients and Intercept\n",
    "print('Coefficients: ', best_ridge.coef_)\n",
    "print('Intercept: ', best_ridge.intercept_)"
   ]
  },
  {
   "cell_type": "markdown",
   "metadata": {},
   "source": [
    "### Ridge Regression Modelling (Stratified) Evaluation"
   ]
  },
  {
   "cell_type": "code",
   "execution_count": 156,
   "metadata": {},
   "outputs": [
    {
     "name": "stdout",
     "output_type": "stream",
     "text": [
      "MAE  :  4.869066827463705\n",
      "RMSE :  6.059298288260466\n",
      "R2   :  0.5497969524523387\n"
     ]
    }
   ],
   "source": [
    "\n",
    "# Fit the test data into model\n",
    "y_pred = best_ridge.predict(X_test)\n",
    "\n",
    "# Evaluating Model\n",
    "MAE = mean_absolute_error(y_test, y_pred)\n",
    "RMSE = root_mean_squared_error(y_test, y_pred)\n",
    "r2 = r2_score(y_test, y_pred)\n",
    "\n",
    "\n",
    "# Print the result\n",
    "print('MAE  : ', MAE)\n",
    "print('RMSE : ', RMSE)\n",
    "print('R2   : ', r2)"
   ]
  },
  {
   "cell_type": "markdown",
   "metadata": {},
   "source": [
    "### Lasso Regression Modelling (Stratified) with Hyperparameter Tuning"
   ]
  },
  {
   "cell_type": "code",
   "execution_count": 157,
   "metadata": {},
   "outputs": [
    {
     "name": "stdout",
     "output_type": "stream",
     "text": [
      "Best alpha: 0.0001\n",
      "Coefficients:  [-7.35538294e+00  3.39417507e-01  2.59206535e+00  2.55178368e+00\n",
      " -3.52205064e+00  2.01207881e+00 -5.61494229e+00  4.26400285e+00\n",
      " -0.00000000e+00 -1.57478194e-03  8.05791568e-02  1.67844870e-01\n",
      " -2.20414889e+00  6.99718581e+00  1.04398143e+01 -9.30913063e+00\n",
      "  0.00000000e+00  1.94433731e+00  1.08717321e+01 -1.24864486e-01\n",
      "  1.62147489e+00 -6.30211565e-01]\n",
      "Intercept:  64.54418592199266\n"
     ]
    }
   ],
   "source": [
    "\n",
    "# Create lasso regression object \n",
    "lasso_reg = Lasso()\n",
    "\n",
    "# Define the hyperparameter grid\n",
    "params = {'alpha': np.logspace(-4, 4, 50)}\n",
    "\n",
    "# Set up the GridSearchCV\n",
    "grid_search = GridSearchCV(estimator = lasso_reg, param_grid = params, scoring = 'neg_mean_squared_error', cv=5)\n",
    "\n",
    "# Fit the model\n",
    "grid_search.fit(X_train, y_train)\n",
    "\n",
    "# Get the best model\n",
    "best_lasso = grid_search.best_estimator_\n",
    "\n",
    "# Print the best alpha value\n",
    "print(f\"Best alpha: {grid_search.best_params_['alpha']}\")\n",
    "\n",
    "# Coefficients and Intercept\n",
    "print('Coefficients: ', best_lasso.coef_)\n",
    "print('Intercept: ', best_lasso.intercept_)"
   ]
  },
  {
   "cell_type": "markdown",
   "metadata": {},
   "source": [
    "### Lasso Regression Modelling (Stratified) Evaluation"
   ]
  },
  {
   "cell_type": "code",
   "execution_count": 159,
   "metadata": {},
   "outputs": [
    {
     "name": "stdout",
     "output_type": "stream",
     "text": [
      "MAE  :  4.8690827428422665\n",
      "RMSE :  6.059297498975968\n",
      "R2   :  0.5497970697392742\n"
     ]
    }
   ],
   "source": [
    "\n",
    "# Fit the test data into model\n",
    "y_pred = best_lasso.predict(X_test)\n",
    "\n",
    "# Evaluating Model\n",
    "MAE = mean_absolute_error(y_test, y_pred)\n",
    "RMSE = root_mean_squared_error(y_test, y_pred)\n",
    "r2 = r2_score(y_test, y_pred)\n",
    "\n",
    "\n",
    "# Print the result\n",
    "print('MAE  : ', MAE)\n",
    "print('RMSE : ', RMSE)\n",
    "print('R2   : ', r2)"
   ]
  },
  {
   "cell_type": "markdown",
   "metadata": {},
   "source": [
    "### Random Forest Regression Model (Stratified) with Hyperparameter Tuning"
   ]
  },
  {
   "cell_type": "code",
   "execution_count": 161,
   "metadata": {},
   "outputs": [
    {
     "name": "stdout",
     "output_type": "stream",
     "text": [
      "Fitting 5 folds for each of 100 candidates, totalling 500 fits\n",
      "Best parameters: {'n_estimators': 400, 'min_samples_split': 10, 'min_samples_leaf': 4, 'max_features': 'sqrt', 'max_depth': 20, 'bootstrap': True}\n",
      "Feature Importances:  [0.1938095  0.1564415  0.05067141 0.05250704 0.06005082 0.06393005\n",
      " 0.11898302 0.07108212 0.00994352 0.0080251  0.00910238 0.00444975\n",
      " 0.0267356  0.06009892 0.00890827 0.02456572 0.02816139 0.0080384\n",
      " 0.00162502 0.00968385 0.00880857 0.02437803]\n"
     ]
    }
   ],
   "source": [
    "\n",
    "# Create Random Forest regressor object\n",
    "rf_reg = RandomForestRegressor()\n",
    "\n",
    "# Define the hyperparameter grid\n",
    "params = {\n",
    "    'n_estimators': [100, 200, 300, 400, 500],  # Number of trees in the forest\n",
    "    'max_features': ['auto', 'sqrt'],           # Number of features to consider at every split\n",
    "    'max_depth': [10, 20, 30, 40, 50, None],    # Maximum number of levels in each decision tree\n",
    "    'min_samples_split': [2, 5, 10],            # Minimum number of samples required to split an internal node\n",
    "    'min_samples_leaf': [1, 2, 4],              # Minimum number of samples required to be at a leaf node\n",
    "    'bootstrap': [True, False]                  # Method of selecting samples for training each tree\n",
    "}\n",
    "\n",
    "# Set up the RandomizedSearchCV\n",
    "random_search = RandomizedSearchCV(estimator=rf_reg, param_distributions=params, \n",
    "                                   n_iter=100, scoring='neg_mean_squared_error', cv=5, \n",
    "                                   verbose=1, random_state=42, n_jobs=-1)\n",
    "\n",
    "# Fit the model\n",
    "random_search.fit(X_train, y_train)\n",
    "\n",
    "# Get the best model\n",
    "best_rf = random_search.best_estimator_\n",
    "\n",
    "# Print the best parameters\n",
    "print(f\"Best parameters: {random_search.best_params_}\")\n",
    "\n",
    "# Feature Importance\n",
    "print('Feature Importances: ', best_rf.feature_importances_)"
   ]
  },
  {
   "cell_type": "markdown",
   "metadata": {},
   "source": [
    "### Random Forest Regression Model (Stratified) Evaluation"
   ]
  },
  {
   "cell_type": "code",
   "execution_count": 162,
   "metadata": {},
   "outputs": [
    {
     "name": "stdout",
     "output_type": "stream",
     "text": [
      "MAE  :  3.81218263830449\n",
      "RMSE :  4.845261814243267\n",
      "R2   :  0.7121287697765766\n"
     ]
    }
   ],
   "source": [
    "\n",
    "# Fit the test data into model\n",
    "y_pred = best_rf.predict(X_test)\n",
    "\n",
    "# Evaluating Model\n",
    "MAE = mean_absolute_error(y_test, y_pred)\n",
    "RMSE = root_mean_squared_error(y_test, y_pred)\n",
    "r2 = r2_score(y_test, y_pred)\n",
    "\n",
    "\n",
    "# Print the result\n",
    "print('MAE  : ', MAE)\n",
    "print('RMSE : ', RMSE)\n",
    "print('R2   : ', r2)"
   ]
  }
 ],
 "metadata": {
  "kernelspec": {
   "display_name": "base",
   "language": "python",
   "name": "python3"
  },
  "language_info": {
   "codemirror_mode": {
    "name": "ipython",
    "version": 3
   },
   "file_extension": ".py",
   "mimetype": "text/x-python",
   "name": "python",
   "nbconvert_exporter": "python",
   "pygments_lexer": "ipython3",
   "version": "3.11.7"
  }
 },
 "nbformat": 4,
 "nbformat_minor": 2
}
